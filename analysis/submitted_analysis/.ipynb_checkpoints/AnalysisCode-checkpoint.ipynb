{
 "cells": [
  {
   "cell_type": "markdown",
   "metadata": {},
   "source": [
    "# Research Project #"
   ]
  },
  {
   "cell_type": "markdown",
   "metadata": {},
   "source": [
    "## Introduction ##\n",
    "\n",
    "This data set relates to academic performance in students grade 1-12. This dataset was collected in 2016 using a \"learner activity tracking\" tool (xADI) from a learning management system (LMS). It was collected over the course of two academic semesters. Data was collected for 480 students on 16 unique variables. We are interested in the different types of classroom interactions and how they may relate to other variables such as gender, parental satisfaction, and final grades. \n",
    "\n",
    "We will explore how the number of classroom interactions affects final grades, whether the sum of different interactions is an accurate representation of participation, if interaction level is different by gender, if parental satisfaction correlates with total interaction, and the potential relationship of interaction and days absent from school. \n",
    "\n",
    "## Data Set ## \n",
    "\n",
    "The complete data set of 16 variables was cleaned thorough python scripts resulting in the 12 columns we will be using for our analysis.\n",
    "\n",
    "Gender: Classifies the student's as either Male or Female. The gender column is useful as within our analysis we investigate if gender is correlarted to participation levels and therefore also class achievement levels.\n",
    "\n",
    "PlaceofBirth: Although this column does not directly pertain to our research questions / analysis. It is might be relevant for future research questions. Such as, do certain countries have higher class achievements than others?\n",
    "\n",
    "GradeID: Represents the grade of the student. This column also is not relevant to our specific research questions but might be insightful for future research questions such as does the average level of total interaction vary between grades.\n",
    "\n",
    "Topic: Desribes the course subject of students is not significant to our analysis but could be suitable for future analysis prompts, for example \"do certain subjects lead to higher interaction levels from students\".\n",
    "\n",
    "RaisedHands: Represents the number of times a student raised their hand in class, this column is one of the four columns that make up our \"Total Interaction\" column.\n",
    "\n",
    "VisitedResources: Represents the number of times a student visited resources in class, this column is one of the four columns that make up our \"Total Interaction\" column.\n",
    "\n",
    "AnnouncementsView: Shows the number of times a student viewed annoucements for a class, this column is one of the four columns that make up our \"Total Interaction\" column.\n",
    "\n",
    "Discussion: Shows the number of times a student discussed in class, this column is one of the four columns that make up our \"Total Interaction\" column.\n",
    "\n",
    "ParentschoolSatisfaction: Describes the Parent's rating of the school (either good or bad). This column is used within our analysis when observing if parent's ratings were correlated with the level of interaction of their students.\n",
    "\n",
    "StudentAbsenceDays: This column classifies the amount a each student was absent with the options being \"under 7\" and \"above 7\"\n",
    "\n",
    "Class: This column is very pertinent to our analysis as it describes the class achievement of each student. The three options are H for high achievemnt, M for medium and L for low.\n",
    "\n",
    "Total Interaction: This is a column not originally found in the dataset, made by adding the \"RaisedHands\", \"Visited Resources\", \"AnnouncementsView\" and \"Discusssion\" columns. As most of our research questions in the individual and group portions of this data analysis involves questions of student's levels of interaction, this is a very important column to our analysis.\n",
    "\n",
    "\n",
    "\n",
    "\n",
    "\n",
    "## Analysis ##\n",
    "\n",
    "Research question 1 - How the number of classroom interactions related to final grades - will be answered by looking at a box plot. A box plot show the distribution of the total interaction variable for by final grade (low, medium, or high). If the total number of classroom interactions is related to final grade, we will see distributions of interactions that are quite different for each grade category - signifying that lower or higher interaction levels result in a certain final grade. The less overlap between final grade distributions, the better. \n",
    "\n",
    "Research question 2 - Asking if total interaction sums would be an accurate representation of classroom participation - will be answered by looking at correlations. By seeing if each individual type of participation is correlated with the sum of interactions, we can confirm that the sum is an accurate measurement for our other analyses. This would suggest that students that are high on one interaction would be high in the total (and some students don't just participate in one manner)\n",
    "\n",
    "Research question 3 - The question of \"does Gender have an influence on the total interaction\" - will be answered through a box plot. The box plot shows the distriubtion of the total interaction variable between the genders (male and female). With the corresponding box plot visualization, one can make substantial assumptions on the classroom achievement average of the different genders, as it was previously found that higher interaction levels lead to higher achievement.\n",
    "\n",
    "Research question 4 - Finding if parent's satisfaction level with the school's is correlated with the total interaction levels of their students - will be answered through a catplot. The catplot enables observers to view if there is a concentration within the good or bad ratings on the scale of total interaction. As levels of achievement is a consequence of total interaction, the catplot provides insight on if participating student's parents have a positive or negative outlook on their academics (and evidently their school). \n"
   ]
  },
  {
   "cell_type": "code",
   "execution_count": 2,
   "metadata": {},
   "outputs": [],
   "source": [
    "import sys, os\n",
    "sys.path.insert(0, os.path.abspath('..'))\n",
    "from scripts.project_functions import *\n",
    "\n",
    "from scripts import project_functions_anamica\n",
    "\n",
    "import pandas as pd\n",
    "import seaborn as sns\n",
    "import matplotlib.pylab as plt"
   ]
  },
  {
   "cell_type": "code",
   "execution_count": 3,
   "metadata": {},
   "outputs": [
    {
     "data": {
      "text/html": [
       "<div>\n",
       "<style scoped>\n",
       "    .dataframe tbody tr th:only-of-type {\n",
       "        vertical-align: middle;\n",
       "    }\n",
       "\n",
       "    .dataframe tbody tr th {\n",
       "        vertical-align: top;\n",
       "    }\n",
       "\n",
       "    .dataframe thead th {\n",
       "        text-align: right;\n",
       "    }\n",
       "</style>\n",
       "<table border=\"1\" class=\"dataframe\">\n",
       "  <thead>\n",
       "    <tr style=\"text-align: right;\">\n",
       "      <th></th>\n",
       "      <th>Gender</th>\n",
       "      <th>PlaceofBirth</th>\n",
       "      <th>GradeID</th>\n",
       "      <th>Topic</th>\n",
       "      <th>RaisedHands</th>\n",
       "      <th>VisitedResources</th>\n",
       "      <th>AnnouncementsView</th>\n",
       "      <th>Discussion</th>\n",
       "      <th>ParentschoolSatisfaction</th>\n",
       "      <th>StudentAbsenceDays</th>\n",
       "      <th>Class</th>\n",
       "      <th>TotalInteraction</th>\n",
       "    </tr>\n",
       "  </thead>\n",
       "  <tbody>\n",
       "    <tr>\n",
       "      <th>0</th>\n",
       "      <td>M</td>\n",
       "      <td>KuwaIT</td>\n",
       "      <td>G-04</td>\n",
       "      <td>IT</td>\n",
       "      <td>15</td>\n",
       "      <td>16</td>\n",
       "      <td>2</td>\n",
       "      <td>20</td>\n",
       "      <td>Good</td>\n",
       "      <td>Under-7</td>\n",
       "      <td>M</td>\n",
       "      <td>53</td>\n",
       "    </tr>\n",
       "    <tr>\n",
       "      <th>1</th>\n",
       "      <td>M</td>\n",
       "      <td>KuwaIT</td>\n",
       "      <td>G-04</td>\n",
       "      <td>IT</td>\n",
       "      <td>20</td>\n",
       "      <td>20</td>\n",
       "      <td>3</td>\n",
       "      <td>25</td>\n",
       "      <td>Good</td>\n",
       "      <td>Under-7</td>\n",
       "      <td>M</td>\n",
       "      <td>68</td>\n",
       "    </tr>\n",
       "    <tr>\n",
       "      <th>2</th>\n",
       "      <td>M</td>\n",
       "      <td>KuwaIT</td>\n",
       "      <td>G-04</td>\n",
       "      <td>IT</td>\n",
       "      <td>10</td>\n",
       "      <td>7</td>\n",
       "      <td>0</td>\n",
       "      <td>30</td>\n",
       "      <td>Bad</td>\n",
       "      <td>Above-7</td>\n",
       "      <td>L</td>\n",
       "      <td>47</td>\n",
       "    </tr>\n",
       "    <tr>\n",
       "      <th>3</th>\n",
       "      <td>M</td>\n",
       "      <td>KuwaIT</td>\n",
       "      <td>G-04</td>\n",
       "      <td>IT</td>\n",
       "      <td>30</td>\n",
       "      <td>25</td>\n",
       "      <td>5</td>\n",
       "      <td>35</td>\n",
       "      <td>Bad</td>\n",
       "      <td>Above-7</td>\n",
       "      <td>L</td>\n",
       "      <td>95</td>\n",
       "    </tr>\n",
       "    <tr>\n",
       "      <th>4</th>\n",
       "      <td>M</td>\n",
       "      <td>KuwaIT</td>\n",
       "      <td>G-04</td>\n",
       "      <td>IT</td>\n",
       "      <td>40</td>\n",
       "      <td>50</td>\n",
       "      <td>12</td>\n",
       "      <td>50</td>\n",
       "      <td>Bad</td>\n",
       "      <td>Above-7</td>\n",
       "      <td>M</td>\n",
       "      <td>152</td>\n",
       "    </tr>\n",
       "    <tr>\n",
       "      <th>...</th>\n",
       "      <td>...</td>\n",
       "      <td>...</td>\n",
       "      <td>...</td>\n",
       "      <td>...</td>\n",
       "      <td>...</td>\n",
       "      <td>...</td>\n",
       "      <td>...</td>\n",
       "      <td>...</td>\n",
       "      <td>...</td>\n",
       "      <td>...</td>\n",
       "      <td>...</td>\n",
       "      <td>...</td>\n",
       "    </tr>\n",
       "    <tr>\n",
       "      <th>475</th>\n",
       "      <td>F</td>\n",
       "      <td>Jordan</td>\n",
       "      <td>G-08</td>\n",
       "      <td>Chemistry</td>\n",
       "      <td>5</td>\n",
       "      <td>4</td>\n",
       "      <td>5</td>\n",
       "      <td>8</td>\n",
       "      <td>Bad</td>\n",
       "      <td>Above-7</td>\n",
       "      <td>L</td>\n",
       "      <td>22</td>\n",
       "    </tr>\n",
       "    <tr>\n",
       "      <th>476</th>\n",
       "      <td>F</td>\n",
       "      <td>Jordan</td>\n",
       "      <td>G-08</td>\n",
       "      <td>Geology</td>\n",
       "      <td>50</td>\n",
       "      <td>77</td>\n",
       "      <td>14</td>\n",
       "      <td>28</td>\n",
       "      <td>Bad</td>\n",
       "      <td>Under-7</td>\n",
       "      <td>M</td>\n",
       "      <td>169</td>\n",
       "    </tr>\n",
       "    <tr>\n",
       "      <th>477</th>\n",
       "      <td>F</td>\n",
       "      <td>Jordan</td>\n",
       "      <td>G-08</td>\n",
       "      <td>Geology</td>\n",
       "      <td>55</td>\n",
       "      <td>74</td>\n",
       "      <td>25</td>\n",
       "      <td>29</td>\n",
       "      <td>Bad</td>\n",
       "      <td>Under-7</td>\n",
       "      <td>M</td>\n",
       "      <td>183</td>\n",
       "    </tr>\n",
       "    <tr>\n",
       "      <th>478</th>\n",
       "      <td>F</td>\n",
       "      <td>Jordan</td>\n",
       "      <td>G-08</td>\n",
       "      <td>History</td>\n",
       "      <td>30</td>\n",
       "      <td>17</td>\n",
       "      <td>14</td>\n",
       "      <td>57</td>\n",
       "      <td>Bad</td>\n",
       "      <td>Above-7</td>\n",
       "      <td>L</td>\n",
       "      <td>118</td>\n",
       "    </tr>\n",
       "    <tr>\n",
       "      <th>479</th>\n",
       "      <td>F</td>\n",
       "      <td>Jordan</td>\n",
       "      <td>G-08</td>\n",
       "      <td>History</td>\n",
       "      <td>35</td>\n",
       "      <td>14</td>\n",
       "      <td>23</td>\n",
       "      <td>62</td>\n",
       "      <td>Bad</td>\n",
       "      <td>Above-7</td>\n",
       "      <td>L</td>\n",
       "      <td>134</td>\n",
       "    </tr>\n",
       "  </tbody>\n",
       "</table>\n",
       "<p>480 rows × 12 columns</p>\n",
       "</div>"
      ],
      "text/plain": [
       "    Gender PlaceofBirth GradeID      Topic  RaisedHands  VisitedResources  \\\n",
       "0        M       KuwaIT    G-04         IT           15                16   \n",
       "1        M       KuwaIT    G-04         IT           20                20   \n",
       "2        M       KuwaIT    G-04         IT           10                 7   \n",
       "3        M       KuwaIT    G-04         IT           30                25   \n",
       "4        M       KuwaIT    G-04         IT           40                50   \n",
       "..     ...          ...     ...        ...          ...               ...   \n",
       "475      F       Jordan    G-08  Chemistry            5                 4   \n",
       "476      F       Jordan    G-08    Geology           50                77   \n",
       "477      F       Jordan    G-08    Geology           55                74   \n",
       "478      F       Jordan    G-08    History           30                17   \n",
       "479      F       Jordan    G-08    History           35                14   \n",
       "\n",
       "     AnnouncementsView  Discussion ParentschoolSatisfaction  \\\n",
       "0                    2          20                     Good   \n",
       "1                    3          25                     Good   \n",
       "2                    0          30                      Bad   \n",
       "3                    5          35                      Bad   \n",
       "4                   12          50                      Bad   \n",
       "..                 ...         ...                      ...   \n",
       "475                  5           8                      Bad   \n",
       "476                 14          28                      Bad   \n",
       "477                 25          29                      Bad   \n",
       "478                 14          57                      Bad   \n",
       "479                 23          62                      Bad   \n",
       "\n",
       "    StudentAbsenceDays Class  TotalInteraction  \n",
       "0              Under-7     M                53  \n",
       "1              Under-7     M                68  \n",
       "2              Above-7     L                47  \n",
       "3              Above-7     L                95  \n",
       "4              Above-7     M               152  \n",
       "..                 ...   ...               ...  \n",
       "475            Above-7     L                22  \n",
       "476            Under-7     M               169  \n",
       "477            Under-7     M               183  \n",
       "478            Above-7     L               118  \n",
       "479            Above-7     L               134  \n",
       "\n",
       "[480 rows x 12 columns]"
      ]
     },
     "execution_count": 3,
     "metadata": {},
     "output_type": "execute_result"
    }
   ],
   "source": [
    "df = project_functions_anamica.load_process_data(\"../../data/data_raw/part_data.csv\")\n",
    "df"
   ]
  },
  {
   "cell_type": "markdown",
   "metadata": {},
   "source": [
    "### Research Question 1: ###\n",
    "\n",
    "*How does final grade in the class relate to the total number of classroom interactions?*\n",
    "\n",
    "In the box plot visualization below, you can see that those with the highest final grades had the highest average total classroom interactions. Those with the lowest final grades had the fewest total classroom interactions on average. The average number of interactions for each final grade level appear significantly different from each other - especially for the low (L) grade cateogy whose middle 50% of scores does not overlap with the middle 50% of the middle final grade category. \n",
    "Those with higher classroom interactions typicaly have a higher final grade designation."
   ]
  },
  {
   "cell_type": "code",
   "execution_count": 3,
   "metadata": {},
   "outputs": [
    {
     "data": {
      "text/plain": [
       "Text(0, 0.5, 'Total Number of Classroom Interactions')"
      ]
     },
     "execution_count": 3,
     "metadata": {},
     "output_type": "execute_result"
    },
    {
     "data": {
      "image/png": "[encoded data removed]",
      "text/plain": [
       "<Figure size 432x288 with 1 Axes>"
      ]
     },
     "metadata": {
      "needs_background": "light"
     },
     "output_type": "display_data"
    }
   ],
   "source": [
    "sns.boxplot(x='Class', y='TotalInteraction', order = ['L', 'M', 'H'], data = df)\n",
    "plt.title(\"Total Classroom Interactions by Final Grade\")\n",
    "plt.xlabel('Final Grade')\n",
    "plt.ylabel('Total Number of Classroom Interactions')"
   ]
  },
  {
   "cell_type": "markdown",
   "metadata": {},
   "source": [
    "### Research Question 2: ###\n",
    "\n",
    "*Does the sum of all classroom interactions accurately represent their engagement? (ie: does total interactions correlate with each category of interaction)*\n",
    "\n",
    "The default correlation for Seaborn's heatmap is Pearson's correlation as it is the standard for statistics when looking for relationships between two continuous variables. I used the accepted structure for categorizing the extent of the correlations: low is 0 to +/- .29; medium is +/- /30 to +/- .49; and high being +/-.50 to +/- 1. Having a score of +/- 1 means that variables are perfectly correlated. A value of r = 0 indicates that variables are not correlated at all. \n",
    "\n",
    "Looking at the correlation matruct below, the sum of total interactions within the classroom is highly correlated with each of the singular interaction variables (r > .83). This is easily visuatized as the lighter the color square, the higher the correlation (as also indicated by the correlation number). All are positively correlated meaning an increase in one interaction is associated with an increase in another type of classroom interaction.\n",
    "\n",
    "It is pertinent to note that discussion participation is not as highly correlated with the total interaction score. In general, the number of times a student participated in the class has a low correlation with other variables.\n",
    "\n",
    "Note: The diagonal is a \"perfect\" correlation as the varibale is simply correlating with itself.\n",
    "\n"
   ]
  },
  {
   "cell_type": "code",
   "execution_count": 8,
   "metadata": {},
   "outputs": [
    {
     "ename": "AttributeError",
     "evalue": "'AxesSubplot' object has no attribute 'savefig'",
     "output_type": "error",
     "traceback": [
      "\u001b[0;31m---------------------------------------------------------------------------\u001b[0m",
      "\u001b[0;31mAttributeError\u001b[0m                            Traceback (most recent call last)",
      "\u001b[0;32m<ipython-input-8-1eb7b0fa78bb>\u001b[0m in \u001b[0;36m<module>\u001b[0;34m\u001b[0m\n\u001b[1;32m      2\u001b[0m heatmap = sns.heatmap(cor, xticklabels=cor.columns, yticklabels=cor.columns, annot=True, \n\u001b[1;32m      3\u001b[0m             cmap='mako')\n\u001b[0;32m----> 4\u001b[0;31m \u001b[0mheatmap\u001b[0m\u001b[0;34m.\u001b[0m\u001b[0msavefig\u001b[0m\u001b[0;34m(\u001b[0m\u001b[0;34m\"corplot.png\"\u001b[0m\u001b[0;34m)\u001b[0m\u001b[0;34m\u001b[0m\u001b[0;34m\u001b[0m\u001b[0m\n\u001b[0m",
      "\u001b[0;31mAttributeError\u001b[0m: 'AxesSubplot' object has no attribute 'savefig'"
     ]
    },
    {
     "data": {
      "image/png": "[encoded data removed]",
      "text/plain": [
       "<Figure size 432x288 with 2 Axes>"
      ]
     },
     "metadata": {
      "needs_background": "light"
     },
     "output_type": "display_data"
    }
   ],
   "source": [
    "cor = df.corr()\n",
    "heatmap = sns.heatmap(cor, xticklabels=cor.columns, yticklabels=cor.columns, annot=True, \n",
    "            cmap='mako')"
   ]
  },
  {
   "cell_type": "code",
   "execution_count": 12,
   "metadata": {},
   "outputs": [],
   "source": [
    "corplot = heatmap.get_figure()\n",
    "corplot.savefig(\"corplot.png\") "
   ]
  },
  {
   "cell_type": "markdown",
   "metadata": {},
   "source": [
    "### Research Question 3: ###\n",
    "\n",
    "*Does Gender have an influence on the Total Interaction?*\n",
    "\n",
    "When discussing gender vs. total interaction, through the visualization of the barplot, it is clear that there is a big disparity within the amount of interaction between males and females. \n",
    "\n",
    "On average, females have an increased overall participation rate, and as a result of our previous findings, one can assume that females  are higher achievers.\n",
    "\n",
    "Although, it is important to note that this dataset has data from 1.74 times as many males as females, so that may be an influential factor to consider.\n"
   ]
  },
  {
   "cell_type": "code",
   "execution_count": 8,
   "metadata": {},
   "outputs": [
    {
     "data": {
      "text/plain": [
       "Text(0, 0.5, 'Total Interaction Levels')"
      ]
     },
     "execution_count": 8,
     "metadata": {},
     "output_type": "execute_result"
    },
    {
     "data": {
      "image/png": "[encoded data removed]",
      "text/plain": [
       "<Figure size 432x288 with 1 Axes>"
      ]
     },
     "metadata": {
      "needs_background": "light"
     },
     "output_type": "display_data"
    }
   ],
   "source": [
    "boxplot = sns.boxplot(x='Gender', y='TotalInteraction', data = df)\n",
    "plt.ylabel(\"Total Interaction Levels\")"
   ]
  },
  {
   "cell_type": "markdown",
   "metadata": {},
   "source": [
    "### Research Question 4: ###\n",
    "\n",
    "*Does the Parent's satisfaction level with the school correlate with the total interaction of their students?*\n",
    "\n",
    "The dataset proves that parents whose students had higher levels of  participation, had a higher satisfaction rate with the school. The catplot demonstrates that a majority of parents who had a positive rating of their school, had high achieving students, and vice versa.\n"
   ]
  },
  {
   "cell_type": "code",
   "execution_count": 6,
   "metadata": {},
   "outputs": [
    {
     "data": {
      "text/html": [
       "<div>\n",
       "<style scoped>\n",
       "    .dataframe tbody tr th:only-of-type {\n",
       "        vertical-align: middle;\n",
       "    }\n",
       "\n",
       "    .dataframe tbody tr th {\n",
       "        vertical-align: top;\n",
       "    }\n",
       "\n",
       "    .dataframe thead th {\n",
       "        text-align: right;\n",
       "    }\n",
       "</style>\n",
       "<table border=\"1\" class=\"dataframe\">\n",
       "  <thead>\n",
       "    <tr style=\"text-align: right;\">\n",
       "      <th></th>\n",
       "      <th>ParentschoolSatisfaction</th>\n",
       "      <th>TotalInteraction</th>\n",
       "    </tr>\n",
       "  </thead>\n",
       "  <tbody>\n",
       "    <tr>\n",
       "      <th>0</th>\n",
       "      <td>Bad</td>\n",
       "      <td>144.409574</td>\n",
       "    </tr>\n",
       "    <tr>\n",
       "      <th>1</th>\n",
       "      <td>Good</td>\n",
       "      <td>207.476027</td>\n",
       "    </tr>\n",
       "  </tbody>\n",
       "</table>\n",
       "</div>"
      ],
      "text/plain": [
       "  ParentschoolSatisfaction  TotalInteraction\n",
       "0                      Bad        144.409574\n",
       "1                     Good        207.476027"
      ]
     },
     "execution_count": 6,
     "metadata": {},
     "output_type": "execute_result"
    }
   ],
   "source": [
    "dataPSS = df.groupby('ParentschoolSatisfaction', as_index = False)['TotalInteraction'].mean()\n",
    "dataPSS"
   ]
  },
  {
   "cell_type": "code",
   "execution_count": 9,
   "metadata": {},
   "outputs": [
    {
     "data": {
      "text/plain": [
       "<seaborn.axisgrid.FacetGrid at 0x7fee1f1b0880>"
      ]
     },
     "execution_count": 9,
     "metadata": {},
     "output_type": "execute_result"
    },
    {
     "data": {
      "image/png": "[encoded data removed]",
      "text/plain": [
       "<Figure size 360x360 with 1 Axes>"
      ]
     },
     "metadata": {
      "needs_background": "light"
     },
     "output_type": "display_data"
    }
   ],
   "source": [
    "catplot = sns.catplot(data = df, y='TotalInteraction', x='ParentschoolSatisfaction')\n",
    "plt.ylabel(\"Total Interaction Levels\")\n",
    "plt.xlabel(\"Parent's School Satisfaction Rating\")\n",
    "catplot"
   ]
  },
  {
   "cell_type": "markdown",
   "metadata": {},
   "source": [
    "# Conclusions #\n",
    "\n",
    "We explored a number of different relationships that exist within this data set pertaining to classroom interactions. We were able to use a variety of visulatizations to see that as total number of classroom interactions increases, final grade categorization gets higher; (RQ3 results); and (RQ4 results). We were also able to confirm that the total number of classroom interactions was a valid way to indicate classroom participation and use this as our main variable in our other analyses. \n",
    "\n",
    "These findings are important for teachers, parents, and students. Teachers can encouraging interactions which may result in higher grades (note: causation is yet to be established). We also know that boys typically have a lower class number of classroom interactions and perhaps need more encouragement. \n"
   ]
  }
 ],
 "metadata": {
  "kernelspec": {
   "display_name": "Python 3",
   "language": "python",
   "name": "python3"
  },
  "language_info": {
   "codemirror_mode": {
    "name": "ipython",
    "version": 3
   },
   "file_extension": ".py",
   "mimetype": "text/x-python",
   "name": "python",
   "nbconvert_exporter": "python",
   "pygments_lexer": "ipython3",
   "version": "3.8.3"
  }
 },
 "nbformat": 4,
 "nbformat_minor": 4
}
